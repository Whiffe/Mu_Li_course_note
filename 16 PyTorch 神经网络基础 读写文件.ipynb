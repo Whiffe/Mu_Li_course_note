{
 "cells": [
  {
   "cell_type": "markdown",
   "id": "ce44852e-0091-43e2-b6e0-f9d661af732c",
   "metadata": {},
   "source": [
    "读写文件"
   ]
  },
  {
   "cell_type": "markdown",
   "id": "dbe682a0-f6aa-42e0-a5a0-6bb2dc0cd8a4",
   "metadata": {},
   "source": [
    "加载和保存张量"
   ]
  },
  {
   "cell_type": "code",
   "execution_count": 1,
   "id": "f523776d-2c47-4539-8a9a-2d2583dcea91",
   "metadata": {},
   "outputs": [],
   "source": [
    "import torch\n",
    "from torch import nn\n",
    "from torch.nn import functional as F"
   ]
  },
  {
   "cell_type": "code",
   "execution_count": 2,
   "id": "f3370f8a-6182-4171-b6db-d72ac7229de7",
   "metadata": {},
   "outputs": [
    {
     "data": {
      "text/plain": [
       "tensor([0, 1, 2, 3])"
      ]
     },
     "execution_count": 2,
     "metadata": {},
     "output_type": "execute_result"
    }
   ],
   "source": [
    "x = torch.arange(4)\n",
    "x"
   ]
  },
  {
   "cell_type": "code",
   "execution_count": 3,
   "id": "11d29e34-eac4-4774-8585-3b6437ac0fea",
   "metadata": {},
   "outputs": [],
   "source": [
    "torch.save(x,'x-file')"
   ]
  },
  {
   "cell_type": "code",
   "execution_count": 4,
   "id": "35a32644-b2a8-4005-a460-b951e851021c",
   "metadata": {},
   "outputs": [
    {
     "data": {
      "text/plain": [
       "tensor([0, 1, 2, 3])"
      ]
     },
     "execution_count": 4,
     "metadata": {},
     "output_type": "execute_result"
    }
   ],
   "source": [
    "x2 = torch.load('x-file')\n",
    "x2"
   ]
  },
  {
   "cell_type": "markdown",
   "id": "3d5c4b41-585d-4ed9-a1a7-c3e3d772aebd",
   "metadata": {},
   "source": [
    "存储一个张量列表，然后把它们读回内存"
   ]
  },
  {
   "cell_type": "code",
   "execution_count": 5,
   "id": "8a50aa0a-0588-49cc-b77a-24953f4321d3",
   "metadata": {},
   "outputs": [
    {
     "data": {
      "text/plain": [
       "(tensor([0, 1, 2, 3]), tensor([0., 0., 0., 0.]))"
      ]
     },
     "execution_count": 5,
     "metadata": {},
     "output_type": "execute_result"
    }
   ],
   "source": [
    "y = torch.zeros(4)\n",
    "torch.save([x,y], 'x-files')\n",
    "x2, y2 = torch.load('x-files')\n",
    "(x2, y2)"
   ]
  },
  {
   "cell_type": "markdown",
   "id": "0deef0e1-d10b-4107-8459-3bb5340e9762",
   "metadata": {},
   "source": [
    "写入或读取从字符串映射到张量的字典"
   ]
  },
  {
   "cell_type": "code",
   "execution_count": 6,
   "id": "d3a08cc9-88ac-4f83-86b7-41a301208582",
   "metadata": {},
   "outputs": [
    {
     "data": {
      "text/plain": [
       "{'x': tensor([0, 1, 2, 3]), 'y': tensor([0., 0., 0., 0.])}"
      ]
     },
     "execution_count": 6,
     "metadata": {},
     "output_type": "execute_result"
    }
   ],
   "source": [
    "mydict = {'x':x, 'y':y}\n",
    "mydict"
   ]
  },
  {
   "cell_type": "code",
   "execution_count": 7,
   "id": "5af76fc8-08dc-49cb-86f7-a62720e69381",
   "metadata": {},
   "outputs": [
    {
     "data": {
      "text/plain": [
       "{'x': tensor([0, 1, 2, 3]), 'y': tensor([0., 0., 0., 0.])}"
      ]
     },
     "execution_count": 7,
     "metadata": {},
     "output_type": "execute_result"
    }
   ],
   "source": [
    "torch.save(mydict, 'mydict')\n",
    "mydict2 = torch.load('mydict')\n",
    "mydict2"
   ]
  },
  {
   "cell_type": "markdown",
   "id": "ef0302d0-9f8d-42e4-8234-5384440bc3e6",
   "metadata": {},
   "source": [
    "加载和保存模型参数参数"
   ]
  },
  {
   "cell_type": "code",
   "execution_count": 8,
   "id": "7db06d37-75b7-40a1-bb48-ee3b29675000",
   "metadata": {},
   "outputs": [],
   "source": [
    "class MLP(nn.Module):\n",
    "    def __init__(self):\n",
    "        super().__init__()\n",
    "        self.hidden = nn.Linear(20, 256)\n",
    "        self.output = nn.Linear(256, 10)\n",
    "    def forward(self, x):\n",
    "        return self.output(F.relu(self.hidden(x)))\n"
   ]
  },
  {
   "cell_type": "code",
   "execution_count": 9,
   "id": "612775e3-c27c-4a03-b372-d3470bacf64e",
   "metadata": {},
   "outputs": [],
   "source": [
    "net = MLP()"
   ]
  },
  {
   "cell_type": "code",
   "execution_count": 10,
   "id": "f3ec3636-cd3c-42f1-a090-79b2a902c692",
   "metadata": {},
   "outputs": [
    {
     "data": {
      "text/plain": [
       "tensor([[-0.1613, -1.5991,  1.3678,  0.6908, -1.5151,  0.7809,  0.5339,  2.5892,\n",
       "          1.0175,  1.2038, -0.3501, -0.5157,  0.5920, -1.3720,  0.0464, -1.7235,\n",
       "         -0.9409, -1.0620, -0.3223,  0.6638],\n",
       "        [ 0.2858, -1.1495,  0.0955,  0.3977,  0.3220,  1.3780,  1.0631,  0.7806,\n",
       "          1.0663, -0.6138, -1.7502, -0.4005,  0.5037,  0.3188,  0.7117,  1.4289,\n",
       "          1.1295, -0.1618,  0.4241, -0.3305],\n",
       "        [-1.8726, -0.7208,  1.5742,  0.6420, -0.3349, -0.1323, -0.0346,  0.8288,\n",
       "          0.3881,  0.0625, -1.3627,  0.4627,  0.7728,  0.2374,  0.3082, -1.7586,\n",
       "         -0.3496,  0.5560,  0.5174,  0.8431],\n",
       "        [-0.8667, -1.0877,  0.6614,  0.1328, -0.1363, -0.2355,  0.1319,  0.0652,\n",
       "         -0.5866,  1.3504, -0.8252,  0.6932, -1.0438, -0.7015,  0.4154,  0.1201,\n",
       "         -0.8650, -1.0247, -0.8024, -1.5008],\n",
       "        [-0.9525, -1.6476, -0.5218,  0.7450, -1.3324, -1.7252, -0.4003,  2.6915,\n",
       "          0.5420, -0.0802,  0.2861, -0.9112,  0.7718, -1.0371, -0.6525,  0.0633,\n",
       "          0.8143, -0.6974,  1.3063,  1.4290],\n",
       "        [-1.0830,  0.2571,  1.1248,  0.7893, -0.2278,  0.4833,  0.1261, -0.0413,\n",
       "          0.5770,  0.0981, -0.3984,  0.4218, -0.4333,  0.5125, -0.1939,  0.9936,\n",
       "         -0.2531, -0.5434,  0.2200,  0.1073]])"
      ]
     },
     "execution_count": 10,
     "metadata": {},
     "output_type": "execute_result"
    }
   ],
   "source": [
    "X = torch.randn(size=(6, 20))\n",
    "X"
   ]
  },
  {
   "cell_type": "code",
   "execution_count": 11,
   "id": "71816599-c0db-4457-87f5-095ff903aa9c",
   "metadata": {},
   "outputs": [
    {
     "data": {
      "text/plain": [
       "tensor([[-0.0209,  0.3166, -0.0967,  0.1269, -0.5412,  0.1302, -0.0083,  0.4940,\n",
       "         -0.0661, -0.4259],\n",
       "        [ 0.4337,  0.1968, -0.1514,  0.3067, -0.3140,  0.0319, -0.1792,  0.1203,\n",
       "          0.0494, -0.2147],\n",
       "        [ 0.0301,  0.4452, -0.2283, -0.0163, -0.6999,  0.3072,  0.0945,  0.1110,\n",
       "          0.1717, -0.2304],\n",
       "        [ 0.2101,  0.2193, -0.1392,  0.0105, -0.2784,  0.0883, -0.2607,  0.0741,\n",
       "          0.1087, -0.2262],\n",
       "        [ 0.1657,  0.4939,  0.0839,  0.1590, -0.2329,  0.0469,  0.3863,  0.1198,\n",
       "         -0.0057, -0.2359],\n",
       "        [-0.0292, -0.0112, -0.3066,  0.1498, -0.1679,  0.0140,  0.0794,  0.1637,\n",
       "          0.0150, -0.1708]], grad_fn=<AddmmBackward0>)"
      ]
     },
     "execution_count": 11,
     "metadata": {},
     "output_type": "execute_result"
    }
   ],
   "source": [
    "Y = net(X)\n",
    "Y"
   ]
  },
  {
   "cell_type": "markdown",
   "id": "6387091d-40bd-4dc2-a729-b94f2ff119d3",
   "metadata": {},
   "source": [
    "将模型的参数存储为一个叫做“mlp.params”的文件"
   ]
  },
  {
   "cell_type": "code",
   "execution_count": 12,
   "id": "8c8afba2-337c-4eb1-b5a5-ecca37c6caea",
   "metadata": {},
   "outputs": [],
   "source": [
    "torch.save(net.state_dict(), 'mlp.params')"
   ]
  },
  {
   "cell_type": "markdown",
   "id": "b08cd648-e3f1-4385-9b6e-7ab284bdafe2",
   "metadata": {},
   "source": [
    "实例化了原始多层感知机的一个备份。直接读取文件中存储的参数"
   ]
  },
  {
   "cell_type": "code",
   "execution_count": 13,
   "id": "fe9c4dc3-7bc0-4ea9-9554-994431c0081b",
   "metadata": {},
   "outputs": [
    {
     "data": {
      "text/plain": [
       "MLP(\n",
       "  (hidden): Linear(in_features=20, out_features=256, bias=True)\n",
       "  (output): Linear(in_features=256, out_features=10, bias=True)\n",
       ")"
      ]
     },
     "execution_count": 13,
     "metadata": {},
     "output_type": "execute_result"
    }
   ],
   "source": [
    "clone = MLP()\n",
    "clone.load_state_dict(torch.load('mlp.params'))\n",
    "clone.eval()"
   ]
  },
  {
   "cell_type": "code",
   "execution_count": 17,
   "id": "41c0be28-7f16-4984-9e99-a89e9d271ecf",
   "metadata": {},
   "outputs": [],
   "source": [
    "Y_clone = clone(X)"
   ]
  },
  {
   "cell_type": "code",
   "execution_count": 18,
   "id": "d48e62ac-ce50-4b1d-8456-0357e0b94ec7",
   "metadata": {},
   "outputs": [
    {
     "data": {
      "text/plain": [
       "tensor([[True, True, True, True, True, True, True, True, True, True],\n",
       "        [True, True, True, True, True, True, True, True, True, True],\n",
       "        [True, True, True, True, True, True, True, True, True, True],\n",
       "        [True, True, True, True, True, True, True, True, True, True],\n",
       "        [True, True, True, True, True, True, True, True, True, True],\n",
       "        [True, True, True, True, True, True, True, True, True, True]])"
      ]
     },
     "execution_count": 18,
     "metadata": {},
     "output_type": "execute_result"
    }
   ],
   "source": [
    "Y_clone == Y"
   ]
  },
  {
   "cell_type": "code",
   "execution_count": null,
   "id": "532c0896-f4af-42e0-bf48-28e1ecf5396e",
   "metadata": {},
   "outputs": [],
   "source": []
  }
 ],
 "metadata": {
  "kernelspec": {
   "display_name": "Python 3 (ipykernel)",
   "language": "python",
   "name": "python3"
  },
  "language_info": {
   "codemirror_mode": {
    "name": "ipython",
    "version": 3
   },
   "file_extension": ".py",
   "mimetype": "text/x-python",
   "name": "python",
   "nbconvert_exporter": "python",
   "pygments_lexer": "ipython3",
   "version": "3.8.10"
  }
 },
 "nbformat": 4,
 "nbformat_minor": 5
}
