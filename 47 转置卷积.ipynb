{
 "cells": [
  {
   "cell_type": "code",
   "execution_count": 1,
   "id": "665ab2ce-d573-4986-8602-eec417e959d0",
   "metadata": {},
   "outputs": [],
   "source": [
    "import torch\n",
    "from torch import nn\n",
    "from d2l import torch as d2l"
   ]
  },
  {
   "cell_type": "code",
   "execution_count": 2,
   "id": "7e3989a7-3238-4955-b601-649585d1a44d",
   "metadata": {},
   "outputs": [],
   "source": [
    "def trans_conv(X, K):\n",
    "    '''\n",
    "    X: tensor([[0., 1.],\n",
    "            [2., 3.]])\n",
    "    K: tensor([[0., 1.],\n",
    "            [2., 3.]])\n",
    "    '''\n",
    "    h, w = K.shape\n",
    "    '''\n",
    "    h, w: 2 2\n",
    "    '''\n",
    "    Y = torch.zeros(\n",
    "        (X.shape[0] + h - 1, X.shape[1] + w - 1)\n",
    "    )\n",
    "\n",
    "    '''\n",
    "    X.shape[0] + h - 1: 3\n",
    "    X.shape[1] + 2 - 1: 3\n",
    "    Y: tensor([[0., 0., 0.],\n",
    "            [0., 0., 0.],\n",
    "            [0., 0., 0.]])\n",
    "    '''\n",
    "    for i in range(X.shape[0]):\n",
    "        for j in range(X.shape[1]):\n",
    "            Y[i: i + h, j: j + w] += X[i, j] * K\n",
    "            '''\n",
    "            i: 0\n",
    "            j: 0\n",
    "            Y: tensor([[0., 0., 0.],\n",
    "                    [0., 0., 0.],\n",
    "                    [0., 0., 0.]])\n",
    "                    \n",
    "            i: 0\n",
    "            j: 1\n",
    "            Y: tensor([[0., 0., 1.],\n",
    "                    [0., 2., 3.],\n",
    "                    [0., 0., 0.]])\n",
    "                    \n",
    "            i: 1\n",
    "            j: 0\n",
    "            Y: tensor([[0., 0., 1.],\n",
    "                    [0., 4., 3.],\n",
    "                    [4., 6., 0.]])\n",
    "                    \n",
    "            i: 1\n",
    "            j: 1\n",
    "            Y: tensor([[ 0.,  0.,  1.],\n",
    "                    [ 0.,  4.,  6.],\n",
    "                    [ 4., 12.,  9.]])\n",
    "            '''\n",
    "        \n",
    "    return Y"
   ]
  },
  {
   "cell_type": "code",
   "execution_count": 3,
   "id": "b9584361-1dd0-484b-90a2-e6f7b7e76b3d",
   "metadata": {},
   "outputs": [
    {
     "data": {
      "text/plain": [
       "tensor([[ 0.,  0.,  1.],\n",
       "        [ 0.,  4.,  6.],\n",
       "        [ 4., 12.,  9.]])"
      ]
     },
     "execution_count": 3,
     "metadata": {},
     "output_type": "execute_result"
    }
   ],
   "source": [
    "X = torch.tensor(\n",
    "    [\n",
    "        [0.0, 1.0], [2.0, 3.0]\n",
    "    ]\n",
    ")\n",
    "K = torch.tensor(\n",
    "    [\n",
    "        [0.0, 1.0], [2.0, 3.0]\n",
    "    ]\n",
    ")\n",
    "trans_conv(X, K)"
   ]
  },
  {
   "cell_type": "code",
   "execution_count": 4,
   "id": "c776a4f6-af70-4b3f-8d8d-2c8748fad1c7",
   "metadata": {},
   "outputs": [
    {
     "data": {
      "text/plain": [
       "tensor([[[[ 0.,  0.,  1.],\n",
       "          [ 0.,  4.,  6.],\n",
       "          [ 4., 12.,  9.]]]], grad_fn=<ConvolutionBackward0>)"
      ]
     },
     "execution_count": 4,
     "metadata": {},
     "output_type": "execute_result"
    }
   ],
   "source": [
    "X, K = X.reshape(1, 1, 2, 2), K.reshape(1, 1, 2, 2)\n",
    "'''\n",
    "`nn.ConvTranspose2d` 期望输入的数据形状为\n",
    "`(batch_size, channels, height, width)`。\n",
    "'''\n",
    "tconv = nn.ConvTranspose2d(1, 1, kernel_size=2, bias=False)\n",
    "tconv.weight.data = K\n",
    "tconv(X)"
   ]
  },
  {
   "cell_type": "markdown",
   "id": "c52eb0be-d0f5-44c5-921d-0a6e08b2e289",
   "metadata": {},
   "source": [
    "填充、步幅、多通道"
   ]
  },
  {
   "cell_type": "code",
   "execution_count": 5,
   "id": "92d52801-01cd-4bb5-a7dc-4212df8114c7",
   "metadata": {},
   "outputs": [
    {
     "data": {
      "text/plain": [
       "tensor([[[[4.]]]], grad_fn=<ConvolutionBackward0>)"
      ]
     },
     "execution_count": 5,
     "metadata": {},
     "output_type": "execute_result"
    }
   ],
   "source": [
    "tconv = nn.ConvTranspose2d(1, 1, kernel_size=2, padding=1, bias=False)\n",
    "tconv.weight.data = K\n",
    "tconv(X)"
   ]
  },
  {
   "cell_type": "code",
   "execution_count": 6,
   "id": "4072f5c8-ffe7-49da-b029-84dde5987072",
   "metadata": {},
   "outputs": [
    {
     "data": {
      "text/plain": [
       "tensor([[[[0., 0., 0., 1.],\n",
       "          [0., 0., 2., 3.],\n",
       "          [0., 2., 0., 3.],\n",
       "          [4., 6., 6., 9.]]]], grad_fn=<ConvolutionBackward0>)"
      ]
     },
     "execution_count": 6,
     "metadata": {},
     "output_type": "execute_result"
    }
   ],
   "source": [
    "tconv = nn.ConvTranspose2d(\n",
    "    1, 1, kernel_size=2, stride=2, bias=False\n",
    ")\n",
    "tconv.weight.data = K\n",
    "tconv(X)"
   ]
  },
  {
   "cell_type": "code",
   "execution_count": 7,
   "id": "6e66e7ea-2b1e-4073-8d39-d44e120a4e37",
   "metadata": {},
   "outputs": [
    {
     "data": {
      "text/plain": [
       "True"
      ]
     },
     "execution_count": 7,
     "metadata": {},
     "output_type": "execute_result"
    }
   ],
   "source": [
    "X = torch.rand(size=(1, 10, 16, 16))\n",
    "conv = nn.Conv2d(\n",
    "    10, 20, kernel_size=5, padding=2, stride=3\n",
    ")\n",
    "tconv = nn.ConvTranspose2d(\n",
    "    20, 10, kernel_size=5, padding=2, stride=3\n",
    ")\n",
    "'''\n",
    "conv(X).shape: torch.Size([1, 20, 6, 6])\n",
    "\n",
    "tconv(conv(X)).shape: torch.Size([1, 10, 16, 16])\n",
    "'''\n",
    "tconv(\n",
    "    conv(X)\n",
    ").shape == X.shape"
   ]
  },
  {
   "cell_type": "markdown",
   "id": "7e1ae934-4aad-4857-9e81-1b3a2b164891",
   "metadata": {},
   "source": [
    "与矩阵变化的联系"
   ]
  },
  {
   "cell_type": "code",
   "execution_count": 8,
   "id": "34819078-7706-47e5-b597-c689e1774e13",
   "metadata": {},
   "outputs": [
    {
     "data": {
      "text/plain": [
       "'\\nY: tensor([[27., 37.],\\n        [57., 67.]])\\n'"
      ]
     },
     "execution_count": 8,
     "metadata": {},
     "output_type": "execute_result"
    }
   ],
   "source": [
    "X = torch.arange(9.0).reshape(3, 3)\n",
    "'''\n",
    "X： tensor([[0., 1., 2.],\n",
    "        [3., 4., 5.],\n",
    "        [6., 7., 8.]])\n",
    "'''\n",
    "K = torch.tensor(\n",
    "    [\n",
    "        [1.0, 2.0], [3.0, 4.0]\n",
    "    ]\n",
    ")\n",
    "Y = d2l.corr2d(X, K)\n",
    "'''\n",
    "Y: tensor([[27., 37.],\n",
    "        [57., 67.]])\n",
    "'''"
   ]
  },
  {
   "cell_type": "code",
   "execution_count": 9,
   "id": "24d89ac8-0a4a-46e4-9592-c3d6ae13a479",
   "metadata": {},
   "outputs": [],
   "source": [
    "def kernel2matrix(K):\n",
    "    '''\n",
    "    K: tensor([[1., 2.],\n",
    "            [3., 4.]])\n",
    "    '''\n",
    "    k_, W = torch.zeros(5), torch.zeros((4, 9))\n",
    "    '''\n",
    "    k_: tensor([0., 0., 0., 0., 0.])\n",
    "    W: tensor([[0., 0., 0., 0., 0., 0., 0., 0., 0.],\n",
    "            [0., 0., 0., 0., 0., 0., 0., 0., 0.],\n",
    "            [0., 0., 0., 0., 0., 0., 0., 0., 0.],\n",
    "            [0., 0., 0., 0., 0., 0., 0., 0., 0.]])\n",
    "    '''\n",
    "    k_[:2], k_[3:5] = K[0, :], K[1, :]\n",
    "    '''\n",
    "    k_: tensor([1., 2., 0., 3., 4.])\n",
    "    '''\n",
    "    W[0, :5], W[1, 1:6], W[2, 3:8], W[3, 4:] = k_, k_, k_, k_\n",
    "    print(\"W:\",W)\n",
    "    '''\n",
    "    W: tensor([[1., 2., 0., 3., 4., 0., 0., 0., 0.],\n",
    "               [0., 1., 2., 0., 3., 4., 0., 0., 0.],\n",
    "               [0., 0., 0., 1., 2., 0., 3., 4., 0.],\n",
    "               [0., 0., 0., 0., 1., 2., 0., 3., 4.]])\n",
    "    '''\n",
    "    return W"
   ]
  },
  {
   "cell_type": "code",
   "execution_count": 10,
   "id": "fa44b6f1-1b50-4f40-a23e-a316ab3e4de8",
   "metadata": {},
   "outputs": [
    {
     "name": "stdout",
     "output_type": "stream",
     "text": [
      "W: tensor([[1., 2., 0., 3., 4., 0., 0., 0., 0.],\n",
      "        [0., 1., 2., 0., 3., 4., 0., 0., 0.],\n",
      "        [0., 0., 0., 1., 2., 0., 3., 4., 0.],\n",
      "        [0., 0., 0., 0., 1., 2., 0., 3., 4.]])\n"
     ]
    },
    {
     "data": {
      "text/plain": [
       "tensor([[1., 2., 0., 3., 4., 0., 0., 0., 0.],\n",
       "        [0., 1., 2., 0., 3., 4., 0., 0., 0.],\n",
       "        [0., 0., 0., 1., 2., 0., 3., 4., 0.],\n",
       "        [0., 0., 0., 0., 1., 2., 0., 3., 4.]])"
      ]
     },
     "execution_count": 10,
     "metadata": {},
     "output_type": "execute_result"
    }
   ],
   "source": [
    "W = kernel2matrix(K)\n",
    "W"
   ]
  },
  {
   "cell_type": "code",
   "execution_count": 11,
   "id": "418e5443-16fe-40c8-988f-6ed86ee163c1",
   "metadata": {},
   "outputs": [
    {
     "data": {
      "text/plain": [
       "tensor([[True, True],\n",
       "        [True, True]])"
      ]
     },
     "execution_count": 11,
     "metadata": {},
     "output_type": "execute_result"
    }
   ],
   "source": [
    "'''\n",
    "X: tensor([[0., 1., 2.],\n",
    "        [3., 4., 5.],\n",
    "        [6., 7., 8.]])\n",
    "X.reshape(-1): tensor([0., 1., 2., 3., 4., 5., 6., 7., 8.])\n",
    "torch.matmul(W, X.reshape(-1)): tensor([27., 37., 57., 67.])\n",
    "torch.matmul(W, X.reshape(-1)).reshape(2,2): tensor([[27., 37.],\n",
    "        [57., 67.]])\n",
    "Y: tensor([[27., 37.],\n",
    "        [57., 67.]])\n",
    "\n",
    "'''\n",
    "Y == torch.matmul(W, X.reshape(-1)).reshape(2,2)"
   ]
  },
  {
   "cell_type": "code",
   "execution_count": 12,
   "id": "1c7af099-7d94-40b0-96b0-59a51eceafad",
   "metadata": {},
   "outputs": [
    {
     "data": {
      "text/plain": [
       "tensor([[True, True, True],\n",
       "        [True, True, True],\n",
       "        [True, True, True]])"
      ]
     },
     "execution_count": 12,
     "metadata": {},
     "output_type": "execute_result"
    }
   ],
   "source": [
    "'''\n",
    "Y: tensor([[27., 37.],\n",
    "        [57., 67.]])\n",
    "K: tensor([[1., 2.],\n",
    "        [3., 4.]])\n",
    "'''\n",
    "Z = trans_conv(Y, K)\n",
    "'''\n",
    "\n",
    "Z: tensor([[ 27.,  91.,  74.],\n",
    "        [138., 400., 282.],\n",
    "        [171., 429., 268.]])\n",
    "W: tensor([[1., 2., 0., 3., 4., 0., 0., 0., 0.],\n",
    "        [0., 1., 2., 0., 3., 4., 0., 0., 0.],\n",
    "        [0., 0., 0., 1., 2., 0., 3., 4., 0.],\n",
    "        [0., 0., 0., 0., 1., 2., 0., 3., 4.]])\n",
    "W.T: tensor([[1., 0., 0., 0.],\n",
    "        [2., 1., 0., 0.],\n",
    "        [0., 2., 0., 0.],\n",
    "        [3., 0., 1., 0.],\n",
    "        [4., 3., 2., 1.],\n",
    "        [0., 4., 0., 2.],\n",
    "        [0., 0., 3., 0.],\n",
    "        [0., 0., 4., 3.],\n",
    "        [0., 0., 0., 4.]])\n",
    "Y.reshape(-1): tensor([27., 37., 57., 67.])\n",
    "torch.matmul(W.T, Y.reshape(-1)): tensor([ 27.,  91.,  74., 138., 400., 282., 171., 429., 268.])\n",
    "Z: tensor([[ 27.,  91.,  74.],\n",
    "        [138., 400., 282.],\n",
    "        [171., 429., 268.]])\n",
    "'''\n",
    "Z == torch.matmul(W.T, Y.reshape(-1)).reshape(3, 3)"
   ]
  },
  {
   "cell_type": "code",
   "execution_count": null,
   "id": "15874273-b58d-491f-8dc5-a5ec47b1e7bf",
   "metadata": {},
   "outputs": [],
   "source": []
  }
 ],
 "metadata": {
  "kernelspec": {
   "display_name": "Python 3 (ipykernel)",
   "language": "python",
   "name": "python3"
  },
  "language_info": {
   "codemirror_mode": {
    "name": "ipython",
    "version": 3
   },
   "file_extension": ".py",
   "mimetype": "text/x-python",
   "name": "python",
   "nbconvert_exporter": "python",
   "pygments_lexer": "ipython3",
   "version": "3.8.18"
  }
 },
 "nbformat": 4,
 "nbformat_minor": 5
}
