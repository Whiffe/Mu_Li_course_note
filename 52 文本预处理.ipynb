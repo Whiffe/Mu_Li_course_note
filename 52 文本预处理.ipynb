{
 "cells": [
  {
   "cell_type": "code",
   "execution_count": 1,
   "id": "359462d2-1d03-4783-82a2-cd7f15eb18ab",
   "metadata": {},
   "outputs": [],
   "source": [
    "import collections\n",
    "import re\n",
    "from d2l import torch as d2l"
   ]
  },
  {
   "cell_type": "markdown",
   "id": "829c0138-7e85-4ae6-8cbb-52cbb6eb38f9",
   "metadata": {},
   "source": [
    "读取数据集"
   ]
  },
  {
   "cell_type": "code",
   "execution_count": 2,
   "id": "31d70ceb-a4cb-4132-833b-4ca2f52f13ff",
   "metadata": {},
   "outputs": [],
   "source": [
    "d2l.DATA_HUB['time_machine'] = (\n",
    "    d2l.DATA_URL + 'timemachine.txt',\n",
    "    '090b5e7e70c295757f55df93cb0a180b9691891a'\n",
    ")"
   ]
  },
  {
   "cell_type": "code",
   "execution_count": 3,
   "id": "03a86125-abf4-45ae-9d98-4fa143b2df22",
   "metadata": {},
   "outputs": [],
   "source": [
    "def read_time_machine():\n",
    "    with open(d2l.download('time_machine'), 'r') as f:\n",
    "        lines = f.readlines()\n",
    "    return [\n",
    "        re.sub('[^A-Za-z]+', ' ', line).strip().lower() for line in lines\n",
    "    ]"
   ]
  },
  {
   "cell_type": "code",
   "execution_count": 4,
   "id": "ac5ee6f8-ab7d-40d7-a855-fa87c557b2c5",
   "metadata": {},
   "outputs": [
    {
     "name": "stdout",
     "output_type": "stream",
     "text": [
      "# 文本总行数：3221\n",
      "the time machine by h g wells\n",
      "twinkled and his usually pale face was flushed and animated the\n"
     ]
    }
   ],
   "source": [
    "lines = read_time_machine()\n",
    "print(f\"# 文本总行数：{len(lines)}\")\n",
    "print(lines[0])\n",
    "print(lines[10])"
   ]
  },
  {
   "cell_type": "markdown",
   "id": "b180db52-589a-443c-b24a-5f5ee88e9097",
   "metadata": {},
   "source": [
    "词元化"
   ]
  },
  {
   "cell_type": "code",
   "execution_count": 5,
   "id": "e9daec45-84f6-41d2-9788-d702dfc7b47d",
   "metadata": {},
   "outputs": [
    {
     "name": "stdout",
     "output_type": "stream",
     "text": [
      "['the', 'time', 'machine', 'by', 'h', 'g', 'wells']\n",
      "[]\n",
      "[]\n",
      "[]\n",
      "[]\n",
      "['i']\n",
      "[]\n",
      "[]\n",
      "['the', 'time', 'traveller', 'for', 'so', 'it', 'will', 'be', 'convenient', 'to', 'speak', 'of', 'him']\n",
      "['was', 'expounding', 'a', 'recondite', 'matter', 'to', 'us', 'his', 'grey', 'eyes', 'shone', 'and']\n",
      "['twinkled', 'and', 'his', 'usually', 'pale', 'face', 'was', 'flushed', 'and', 'animated', 'the']\n"
     ]
    }
   ],
   "source": [
    "def tokenize(lines, token='word'):\n",
    "    if token == 'word':\n",
    "        return [line.split() for line in lines]\n",
    "    elif token == 'char':\n",
    "        return [list(line) for line in lines]\n",
    "    else:\n",
    "        print(\"错误：未知词元类型\" + token)\n",
    "\n",
    "tokens = tokenize(lines)\n",
    "for i in range(11):\n",
    "    print(tokens[i])"
   ]
  },
  {
   "cell_type": "markdown",
   "id": "0be418a9-6e9f-4e0f-a403-80ec01d38868",
   "metadata": {},
   "source": [
    "词表"
   ]
  },
  {
   "cell_type": "code",
   "execution_count": 6,
   "id": "54ed8019-c7d2-4149-9d74-dbdfbb3c7036",
   "metadata": {},
   "outputs": [],
   "source": [
    "class Vocab:\n",
    "    # 文本词表\n",
    "    def __init__(self, tokens=None, min_freq=0, reserved_tokens=None):\n",
    "        if tokens is None:\n",
    "            tokens = []\n",
    "        if reserved_tokens is None:\n",
    "            reserved_tokens = []\n",
    "\n",
    "        # 按出现频率排序\n",
    "        counter = count_corpus(tokens)\n",
    "        '''\n",
    "        `counter.items()` 返回这个字典中的所有键值对，以 (key, value) 的形式构成一个可迭代的视图\n",
    "        \n",
    "        `sorted` 函数有一个可选参数 `key`，用于指定排序的依据。\n",
    "        在这里，`key=lambda x: x[1]` 表示我们要根据每个 (key, value) 对中的 `value`（即单词的出现频率）进行排序。\n",
    "        `lambda x: x[1]` 是一个匿名函数，输入是字典中的一个 (key, value) 对，输出是这个对中的 `value` 部分。\n",
    "\n",
    "        `sorted` 函数还有一个可选参数 `reverse`，用于指定排序的顺序。\n",
    "        `reverse=True` 表示我们要进行降序排序，即频率高的单词排在前面。\n",
    "\n",
    "        '''\n",
    "        self._token_freqs = sorted(\n",
    "            counter.items(),\n",
    "            key=lambda x: x[1],\n",
    "            reverse=True\n",
    "        )\n",
    "\n",
    "        '''\n",
    "        初始化未知词元索引\n",
    "        \n",
    "        self.idx_to_token = ['<unk>'] + reserved_tokens:初始化了一个列表idx_to_token，\n",
    "        它将用于存储词汇表中的词元（tokens）及其对应的索引。\n",
    "        列表的第一个元素是'<unk>'，这是一个特殊的词元，用于代表那些在词汇表中未被包含的词元（即未知词元）。\n",
    "        reserved_tokens是一个参数列表，包含了一些需要保留的词元，这些词元会被添加到'<unk>'之后。\n",
    "\n",
    "        未知词元的索引为0\n",
    "\n",
    "        '''\n",
    "        # \n",
    "        self.idx_to_token = ['<unk>'] + reserved_tokens\n",
    "        '''\n",
    "        创建词元到索引的映射\n",
    "        \n",
    "        self.token_to_idx是一个字典推导式，用于创建一个从词元到索引的映射。\n",
    "        enumerate函数用于获取idx_to_token列表中每个元素的索引（idx）和值（token），\n",
    "        然后字典推导式将每个词元映射到它的索引。\n",
    "        '''\n",
    "        self.token_to_idx = {\n",
    "            token: idx\n",
    "            for idx, token in enumerate(self.idx_to_token)\n",
    "        }\n",
    "        '''\n",
    "        填充词汇表\n",
    "\n",
    "        遍历_token_freqs列表，这个列表包含了按频率排序的词元及其出现频率。循环体内部包含两个主要的操作：\n",
    "        \n",
    "        if freq < min_freq: \n",
    "            break：\n",
    "        如果当前词元的出现频率小于min_freq参数指定的最小频率，则跳出循环。\n",
    "        这意味着只有出现频率大于或等于min_freq的词元才会被加入词汇表。\n",
    "\n",
    "        if token not in self.token_to_idx:如果当前词元不在token_to_idx字典中，\n",
    "        即它还没有被加入词汇表，那么执行以下操作：\n",
    "        \n",
    "            self.idx_to_token.append(token)：将词元添加到idx_to_token列表的末尾。\n",
    "            \n",
    "            self.token_to_idx[token] = len(self.idx_to_token) - 1：\n",
    "            更新token_to_idx字典，将新词元映射到它在idx_to_token列表中的索引。\n",
    "        '''\n",
    "        for token, freq in self._token_freqs:\n",
    "            if freq < min_freq:\n",
    "                break\n",
    "            if token not in self.token_to_idx:\n",
    "                self.idx_to_token.append(token)\n",
    "                self.token_to_idx[token] = len(self.idx_to_token) - 1\n",
    "    \n",
    "    def __len__(self):\n",
    "        return len(self.idx_to_token)\n",
    "        \n",
    "    def __getitem__(self, tokens):\n",
    "        # 如果tokens不是一个列表或元组，说明用户想要获取单个词元的索引\n",
    "        if not isinstance(tokens, (list, tuple)):\n",
    "            # 使用字典的get方法尝试获取tokens的索引，如果tokens不在字典中，则返回未知词元索引self.unk\n",
    "            return self.token_to_idx.get(tokens, self.unk)\n",
    "        # 如果tokens是一个列表或元组，说明用户想要获取多个词元的索引列表\n",
    "        # 对tokens中的每个元素调用__getitem__方法，并返回一个包含所有索引的列表\n",
    "        return [self.__getitem__(token) for token in tokens]\n",
    "    def to_tokens(self, indices):\n",
    "        # 检查indices是否不是一个列表或元组\n",
    "        if not isinstance(indices, (list, tuple)):\n",
    "            # 如果indices不是一个列表或元组，这意味着它是一个单个的索引。\n",
    "            # 因此，可以直接使用这个索引来从idx_to_token列表中获取对应的词元，并返回这个词元。\n",
    "            return self.idx_to_token[indices]\n",
    "\n",
    "        '''\n",
    "        如果indices是一个列表或元组，这意味着它包含了多个索引。\n",
    "        这是一个列表推导式，用于遍历indices中的每个索引index，\n",
    "        使用每个索引从idx_to_token列表中获取对应的词元，并构建一个新的列表，\n",
    "        包含所有找到的词元。最后，返回这个包含词元的列表。\n",
    "\n",
    "        '''\n",
    "        return [self.idx_to_token[index] for index in indices]\n",
    "\n",
    "    @property\n",
    "    def unk(self): #未知元素的索引为0\n",
    "        return 0\n",
    "\n",
    "    @property\n",
    "    def token_freqs(self):\n",
    "        return self._token_freqs"
   ]
  },
  {
   "cell_type": "code",
   "execution_count": 7,
   "id": "c34c433a-ae2a-424f-8e54-44f892b66857",
   "metadata": {},
   "outputs": [],
   "source": [
    "def count_corpus(tokens):\n",
    "    # 统计词元的频率\n",
    "    if len(tokens) == 0 or isinstance(tokens[0], list):\n",
    "        '''\n",
    "        将词元列表展平成一个列表\n",
    "        \n",
    "        [token for line in tokens for token in line]\n",
    "        \n",
    "            for line in tokens：这部分是外部循环，它遍历tokens中的每一个元素。\n",
    "                在这里，我们假设tokens是一个列表，其元素也是列表（即二维列表）。所以，line会依次取tokens中的每一个子列表。\n",
    "            for token in line：这部分是内部循环，它遍历当前line（即tokens中的一个子列表）中的每一个元素。\n",
    "                在这里，我们假设line是一个列表，其元素是词元（tokens）。所以，token会依次取line中的每一个词元。\n",
    "        \n",
    "        \n",
    "        '''\n",
    "        tokens = [token for line in tokens for token in line]\n",
    "    return collections.Counter(tokens)\n",
    "    "
   ]
  },
  {
   "cell_type": "markdown",
   "id": "c3a0c68f-21df-4871-bcd2-ba95f55668a3",
   "metadata": {},
   "source": [
    "额外例子"
   ]
  },
  {
   "cell_type": "raw",
   "id": "a493693e-93c4-46b8-9af0-38ee51529410",
   "metadata": {},
   "source": [
    "tokens = [['apple', 'banana'], ['cherry', 'date'], ['elderberry']]  \n",
    "flattened_tokens = [token for line in tokens for token in line]  \n",
    "print(flattened_tokens)  # 输出: ['apple', 'banana', 'cherry', 'date', 'elderberry']\n",
    "# 在这个例子中，tokens是一个二维列表，我们使用列表推导将其展平为一个一维列表flattened_tokens。"
   ]
  },
  {
   "cell_type": "code",
   "execution_count": 8,
   "id": "061e69c8-d5b2-4f0f-9278-19c3eb49b6d3",
   "metadata": {},
   "outputs": [
    {
     "name": "stdout",
     "output_type": "stream",
     "text": [
      "[('<unk>', 0), ('the', 1), ('i', 2), ('and', 3), ('of', 4), ('a', 5), ('to', 6), ('was', 7), ('in', 8), ('that', 9)]\n"
     ]
    }
   ],
   "source": [
    "vocab = Vocab(tokens)\n",
    "print(\n",
    "    list(\n",
    "        vocab.token_to_idx.items()\n",
    "    )[:10]\n",
    ")"
   ]
  },
  {
   "cell_type": "code",
   "execution_count": 9,
   "id": "587b9293-eb61-4550-989d-3ff7f22907c4",
   "metadata": {},
   "outputs": [
    {
     "name": "stdout",
     "output_type": "stream",
     "text": [
      "文本： ['the', 'time', 'machine', 'by', 'h', 'g', 'wells']\n",
      "索引： [1, 19, 50, 40, 2183, 2184, 400]\n",
      "文本： ['twinkled', 'and', 'his', 'usually', 'pale', 'face', 'was', 'flushed', 'and', 'animated', 'the']\n",
      "索引： [2186, 3, 25, 1044, 362, 113, 7, 1421, 3, 1045, 1]\n"
     ]
    }
   ],
   "source": [
    "for i in [0, 10]:\n",
    "    print('文本：',tokens[i])\n",
    "    print('索引：',vocab[tokens[i]])"
   ]
  },
  {
   "cell_type": "markdown",
   "id": "4b9a8e15-1f63-40cd-bade-3f3ee9cff18d",
   "metadata": {},
   "source": [
    "整合"
   ]
  },
  {
   "cell_type": "code",
   "execution_count": 10,
   "id": "ff0b0c83-5f35-4c4b-8164-50d2d84e7208",
   "metadata": {},
   "outputs": [],
   "source": [
    "def load_corpus_time_machine(max_tokens=-1):\n",
    "    # 返回时光机器数据集的词元索引列表和词表\n",
    "    lines = read_time_machine()\n",
    "    tokens = tokenize(lines, 'char')\n",
    "    vocab = Vocab(tokens)\n",
    "    # 因为时光机数据集中的每个文本行不一定是句子或者一个段落\n",
    "    # 所以将所有文本行展开到一个列表中\n",
    "    corpus = [\n",
    "        vocab[token] for line in tokens for token in line\n",
    "    ]\n",
    "    if max_tokens > 0:\n",
    "        corpus = corpus[:max_tokens]\n",
    "    return corpus, vocab"
   ]
  },
  {
   "cell_type": "code",
   "execution_count": 11,
   "id": "33930374-7518-4f41-9f08-fa92a2be8338",
   "metadata": {},
   "outputs": [
    {
     "data": {
      "text/plain": [
       "(170580, 28)"
      ]
     },
     "execution_count": 11,
     "metadata": {},
     "output_type": "execute_result"
    }
   ],
   "source": [
    "corpus, vocab = load_corpus_time_machine()\n",
    "len(corpus), len(vocab)"
   ]
  },
  {
   "cell_type": "code",
   "execution_count": null,
   "id": "5267ec22-7254-4d92-a3de-c50768db3aa7",
   "metadata": {},
   "outputs": [],
   "source": []
  },
  {
   "cell_type": "code",
   "execution_count": null,
   "id": "8183de50-0f4f-4f17-8d2f-97c22a6728f0",
   "metadata": {},
   "outputs": [],
   "source": []
  }
 ],
 "metadata": {
  "kernelspec": {
   "display_name": "Python 3 (ipykernel)",
   "language": "python",
   "name": "python3"
  },
  "language_info": {
   "codemirror_mode": {
    "name": "ipython",
    "version": 3
   },
   "file_extension": ".py",
   "mimetype": "text/x-python",
   "name": "python",
   "nbconvert_exporter": "python",
   "pygments_lexer": "ipython3",
   "version": "3.8.18"
  }
 },
 "nbformat": 4,
 "nbformat_minor": 5
}
