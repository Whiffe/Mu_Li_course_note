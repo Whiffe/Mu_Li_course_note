{
 "cells": [
  {
   "cell_type": "code",
   "execution_count": 1,
   "id": "50f3bab9-1a92-455a-a0fb-f6d07ec00b56",
   "metadata": {},
   "outputs": [],
   "source": [
    "import torch"
   ]
  },
  {
   "cell_type": "markdown",
   "id": "31e0b420-b958-43c1-984a-b38f7fbb060a",
   "metadata": {},
   "source": [
    "张量表示一个数据组成的数组，这个数据可能有多维"
   ]
  },
  {
   "cell_type": "code",
   "execution_count": 2,
   "id": "e2d942ab-2190-48da-a61f-88a238b52707",
   "metadata": {},
   "outputs": [
    {
     "data": {
      "text/plain": [
       "tensor([ 0,  1,  2,  3,  4,  5,  6,  7,  8,  9, 10, 11])"
      ]
     },
     "execution_count": 2,
     "metadata": {},
     "output_type": "execute_result"
    }
   ],
   "source": [
    "x = torch.arange(12)\n",
    "x"
   ]
  },
  {
   "cell_type": "markdown",
   "id": "20b127e1-b11b-43fd-b1a8-329b08fd350b",
   "metadata": {},
   "source": [
    "可以通过张量的shape属性张量的形状和元素个数"
   ]
  },
  {
   "cell_type": "code",
   "execution_count": 3,
   "id": "54ec6ea3-a1fe-43d8-9e54-777bb5a79d10",
   "metadata": {},
   "outputs": [
    {
     "data": {
      "text/plain": [
       "torch.Size([12])"
      ]
     },
     "execution_count": 3,
     "metadata": {},
     "output_type": "execute_result"
    }
   ],
   "source": [
    "x.shape"
   ]
  },
  {
   "cell_type": "code",
   "execution_count": 4,
   "id": "3e66059c-10d6-4e72-b092-158505507880",
   "metadata": {},
   "outputs": [
    {
     "data": {
      "text/plain": [
       "12"
      ]
     },
     "execution_count": 4,
     "metadata": {},
     "output_type": "execute_result"
    }
   ],
   "source": [
    "x.numel()"
   ]
  },
  {
   "cell_type": "markdown",
   "id": "d726bebc-61fa-4b91-8101-8e7c885347d1",
   "metadata": {},
   "source": [
    "要改变一个张量的形状而不改变元素数量和元素值，用reshape函数"
   ]
  },
  {
   "cell_type": "code",
   "execution_count": 5,
   "id": "51c76ce8-1425-4cda-81b3-96779b5c1016",
   "metadata": {},
   "outputs": [
    {
     "data": {
      "text/plain": [
       "tensor([[ 0,  1,  2,  3],\n",
       "        [ 4,  5,  6,  7],\n",
       "        [ 8,  9, 10, 11]])"
      ]
     },
     "execution_count": 5,
     "metadata": {},
     "output_type": "execute_result"
    }
   ],
   "source": [
    "x2 = x.reshape(3,4)\n",
    "x2"
   ]
  },
  {
   "cell_type": "markdown",
   "id": "f2b64a33-1234-4d15-84eb-66caf7afeb46",
   "metadata": {},
   "source": [
    "使用全0、全1、其他常量或者从特定分布中随机采样的数字"
   ]
  },
  {
   "cell_type": "code",
   "execution_count": 6,
   "id": "d5c459ba-3e6e-4d30-a018-5742e1f3101c",
   "metadata": {},
   "outputs": [
    {
     "data": {
      "text/plain": [
       "tensor([0., 0., 0.])"
      ]
     },
     "execution_count": 6,
     "metadata": {},
     "output_type": "execute_result"
    }
   ],
   "source": [
    "torch.zeros(3)"
   ]
  },
  {
   "cell_type": "code",
   "execution_count": 7,
   "id": "85b0f859-8752-4836-8890-d6a5c5216715",
   "metadata": {},
   "outputs": [
    {
     "data": {
      "text/plain": [
       "tensor([[0., 0., 0.],\n",
       "        [0., 0., 0.]])"
      ]
     },
     "execution_count": 7,
     "metadata": {},
     "output_type": "execute_result"
    }
   ],
   "source": [
    "torch.zeros((2,3))"
   ]
  },
  {
   "cell_type": "code",
   "execution_count": 8,
   "id": "bb2c9387-397b-4651-96e4-ccc36c3e47f7",
   "metadata": {},
   "outputs": [
    {
     "data": {
      "text/plain": [
       "tensor([[[0., 0., 0., 0.],\n",
       "         [0., 0., 0., 0.],\n",
       "         [0., 0., 0., 0.]],\n",
       "\n",
       "        [[0., 0., 0., 0.],\n",
       "         [0., 0., 0., 0.],\n",
       "         [0., 0., 0., 0.]]])"
      ]
     },
     "execution_count": 8,
     "metadata": {},
     "output_type": "execute_result"
    }
   ],
   "source": [
    "torch.zeros(2,3,4)"
   ]
  },
  {
   "cell_type": "code",
   "execution_count": 9,
   "id": "e8787b53-c76f-4727-a3b3-ff11c2337b10",
   "metadata": {},
   "outputs": [
    {
     "data": {
      "text/plain": [
       "tensor([[[0., 0., 0., 0.],\n",
       "         [0., 0., 0., 0.],\n",
       "         [0., 0., 0., 0.]],\n",
       "\n",
       "        [[0., 0., 0., 0.],\n",
       "         [0., 0., 0., 0.],\n",
       "         [0., 0., 0., 0.]]])"
      ]
     },
     "execution_count": 9,
     "metadata": {},
     "output_type": "execute_result"
    }
   ],
   "source": [
    "torch.zeros((2,3,4))"
   ]
  },
  {
   "cell_type": "code",
   "execution_count": 10,
   "id": "321d3603-50f8-421e-91f4-1a74c70d137f",
   "metadata": {},
   "outputs": [
    {
     "data": {
      "text/plain": [
       "tensor([[[1., 1., 1., 1.],\n",
       "         [1., 1., 1., 1.],\n",
       "         [1., 1., 1., 1.]],\n",
       "\n",
       "        [[1., 1., 1., 1.],\n",
       "         [1., 1., 1., 1.],\n",
       "         [1., 1., 1., 1.]]])"
      ]
     },
     "execution_count": 10,
     "metadata": {},
     "output_type": "execute_result"
    }
   ],
   "source": [
    "torch.ones((2,3,4))"
   ]
  },
  {
   "cell_type": "raw",
   "id": "327057b3-5fde-48c7-ac20-5179b59f2323",
   "metadata": {},
   "source": [
    "+,-,*,/,**"
   ]
  },
  {
   "cell_type": "code",
   "execution_count": 11,
   "id": "d962ee1c-90df-43ff-b9e7-cf222e9adcdb",
   "metadata": {},
   "outputs": [
    {
     "data": {
      "text/plain": [
       "(tensor([ 3.,  4.,  6., 10.]),\n",
       " tensor([-1.,  0.,  2.,  6.]),\n",
       " tensor([ 2.,  4.,  8., 16.]),\n",
       " tensor([0.5000, 1.0000, 2.0000, 4.0000]),\n",
       " tensor([ 1.,  4., 16., 64.]))"
      ]
     },
     "execution_count": 11,
     "metadata": {},
     "output_type": "execute_result"
    }
   ],
   "source": [
    "x = torch.tensor([1.0, 2, 4, 8])\n",
    "y = torch.tensor([2, 2, 2, 2])\n",
    "x + y, x - y, x * y, x / y, x ** y"
   ]
  },
  {
   "cell_type": "markdown",
   "id": "419c046b-cf7f-4272-9847-d354cfddaae1",
   "metadata": {},
   "source": [
    "把多个张量结合在一起"
   ]
  },
  {
   "cell_type": "code",
   "execution_count": 12,
   "id": "175dd1dd-db99-4f63-af07-2f9750d1f48f",
   "metadata": {},
   "outputs": [
    {
     "data": {
      "text/plain": [
       "(tensor([[ 0.,  1.,  2.,  3.],\n",
       "         [ 4.,  5.,  6.,  7.],\n",
       "         [ 8.,  9., 10., 11.],\n",
       "         [ 2.,  1.,  4.,  3.],\n",
       "         [ 1.,  2.,  3.,  4.],\n",
       "         [ 4.,  3.,  2.,  1.]]),\n",
       " tensor([[ 0.,  1.,  2.,  3.,  2.,  1.,  4.,  3.],\n",
       "         [ 4.,  5.,  6.,  7.,  1.,  2.,  3.,  4.],\n",
       "         [ 8.,  9., 10., 11.,  4.,  3.,  2.,  1.]]))"
      ]
     },
     "execution_count": 12,
     "metadata": {},
     "output_type": "execute_result"
    }
   ],
   "source": [
    "x = torch.arange(12, dtype=torch.float32).reshape((3,4))\n",
    "y = torch.tensor([[2.0, 1, 4, 3], [1, 2, 3, 4], [4, 3, 2, 1]])\n",
    "torch.cat((x, y), dim=0), torch.cat((x,y), dim=1)"
   ]
  },
  {
   "cell_type": "markdown",
   "id": "20407cc9-9f6e-4f3d-bda0-c1bbd443a7d9",
   "metadata": {},
   "source": [
    "通过逻辑运算符构建二元张量"
   ]
  },
  {
   "cell_type": "code",
   "execution_count": 14,
   "id": "a3f1d685-7c0c-44a9-a364-042b32790fd6",
   "metadata": {},
   "outputs": [
    {
     "data": {
      "text/plain": [
       "tensor([[False,  True, False,  True],\n",
       "        [False, False, False, False],\n",
       "        [False, False, False, False]])"
      ]
     },
     "execution_count": 14,
     "metadata": {},
     "output_type": "execute_result"
    }
   ],
   "source": [
    "x == y"
   ]
  },
  {
   "cell_type": "markdown",
   "id": "f68fb841-12da-42cd-bd83-ebd175af8ace",
   "metadata": {},
   "source": [
    "对张量中所有元素求和，产生只有一个元素的张量"
   ]
  },
  {
   "cell_type": "code",
   "execution_count": 16,
   "id": "aaf0ec34-c0b0-4e6e-9f72-09b85891b5ea",
   "metadata": {},
   "outputs": [
    {
     "data": {
      "text/plain": [
       "tensor(66.)"
      ]
     },
     "execution_count": 16,
     "metadata": {},
     "output_type": "execute_result"
    }
   ],
   "source": [
    "x.sum()"
   ]
  },
  {
   "cell_type": "markdown",
   "id": "91bc5855-99be-406e-a77d-963a0b2e39dc",
   "metadata": {},
   "source": [
    "通过调用广播机制broadcasting mechanism，来执行按元素操作"
   ]
  },
  {
   "cell_type": "code",
   "execution_count": 20,
   "id": "d28e1851-38c8-402b-aa2a-23f064a2bc4f",
   "metadata": {},
   "outputs": [
    {
     "data": {
      "text/plain": [
       "(tensor([[0],\n",
       "         [1],\n",
       "         [2]]),\n",
       " tensor([[0, 1]]))"
      ]
     },
     "execution_count": 20,
     "metadata": {},
     "output_type": "execute_result"
    }
   ],
   "source": [
    "a = torch.arange(3).reshape((3,1))\n",
    "b = torch.arange(2).reshape(1,2)\n",
    "a,b"
   ]
  },
  {
   "cell_type": "code",
   "execution_count": 21,
   "id": "65ec7a51-6aeb-4a3d-92c8-484ade5a5654",
   "metadata": {},
   "outputs": [
    {
     "data": {
      "text/plain": [
       "tensor([[0, 1],\n",
       "        [1, 2],\n",
       "        [2, 3]])"
      ]
     },
     "execution_count": 21,
     "metadata": {},
     "output_type": "execute_result"
    }
   ],
   "source": [
    "a + b"
   ]
  },
  {
   "cell_type": "markdown",
   "id": "3a8c0750-caa4-4f47-9db2-0fda448078e6",
   "metadata": {},
   "source": [
    "[-1]选择最后一个元素，[1:3]选择第二个，第三个元素"
   ]
  },
  {
   "cell_type": "code",
   "execution_count": 23,
   "id": "6140a7f0-79f7-4f41-8479-75d897b8ffb9",
   "metadata": {},
   "outputs": [
    {
     "data": {
      "text/plain": [
       "(tensor([ 8.,  9., 10., 11.]),\n",
       " tensor([[ 4.,  5.,  6.,  7.],\n",
       "         [ 8.,  9., 10., 11.]]),\n",
       " tensor([[ 0.,  1.,  2.,  3.],\n",
       "         [ 4.,  5.,  6.,  7.],\n",
       "         [ 8.,  9., 10., 11.]]))"
      ]
     },
     "execution_count": 23,
     "metadata": {},
     "output_type": "execute_result"
    }
   ],
   "source": [
    "x[-1],x[1:3],x"
   ]
  },
  {
   "cell_type": "markdown",
   "id": "ad4b88e3-1d0e-4d52-bf70-3049ccd88b8b",
   "metadata": {},
   "source": [
    "通过指定索引将元素写入矩阵"
   ]
  },
  {
   "cell_type": "code",
   "execution_count": 24,
   "id": "a83b2ad0-8598-400c-88c9-992bee9ecbed",
   "metadata": {},
   "outputs": [
    {
     "data": {
      "text/plain": [
       "tensor([[ 0.,  1.,  2.,  3.],\n",
       "        [ 4.,  5.,  9.,  7.],\n",
       "        [ 8.,  9., 10., 11.]])"
      ]
     },
     "execution_count": 24,
     "metadata": {},
     "output_type": "execute_result"
    }
   ],
   "source": [
    "x[1,2] = 9\n",
    "x"
   ]
  },
  {
   "cell_type": "markdown",
   "id": "b0b52d5e-a4e5-467b-b1a7-08fda3015c5f",
   "metadata": {},
   "source": [
    "多个元素赋予相同的值"
   ]
  },
  {
   "cell_type": "code",
   "execution_count": 25,
   "id": "1d8f6eab-ce98-45ea-9276-52b7a9f9923a",
   "metadata": {},
   "outputs": [
    {
     "data": {
      "text/plain": [
       "tensor([[12., 12., 12., 12.],\n",
       "        [12., 12., 12., 12.],\n",
       "        [ 8.,  9., 10., 11.]])"
      ]
     },
     "execution_count": 25,
     "metadata": {},
     "output_type": "execute_result"
    }
   ],
   "source": [
    "x[0:2,:] = 12\n",
    "x"
   ]
  },
  {
   "cell_type": "markdown",
   "id": "547c3d40-e541-4b8a-80b3-db7d869e4494",
   "metadata": {},
   "source": [
    "一些操作可能导致新结果分配内存"
   ]
  },
  {
   "cell_type": "code",
   "execution_count": 29,
   "id": "e758905d-9c24-4c30-8715-fb10b9d33180",
   "metadata": {},
   "outputs": [
    {
     "data": {
      "text/plain": [
       "140045476577152"
      ]
     },
     "execution_count": 29,
     "metadata": {},
     "output_type": "execute_result"
    }
   ],
   "source": [
    "before = id(y)\n",
    "before\n"
   ]
  },
  {
   "cell_type": "code",
   "execution_count": 30,
   "id": "50889ba4-6a23-4a8c-96fd-d8b1a597e53b",
   "metadata": {},
   "outputs": [
    {
     "data": {
      "text/plain": [
       "140045476863104"
      ]
     },
     "execution_count": 30,
     "metadata": {},
     "output_type": "execute_result"
    }
   ],
   "source": [
    "y = x + y\n",
    "after = id(y)\n",
    "after"
   ]
  },
  {
   "cell_type": "code",
   "execution_count": 32,
   "id": "36055d38-d358-4b64-bb2e-e12e2a8c4dae",
   "metadata": {},
   "outputs": [
    {
     "data": {
      "text/plain": [
       "False"
      ]
     },
     "execution_count": 32,
     "metadata": {},
     "output_type": "execute_result"
    }
   ],
   "source": [
    "after == before"
   ]
  },
  {
   "cell_type": "markdown",
   "id": "d31d3320-c475-4175-9b0c-7dd5121497f3",
   "metadata": {},
   "source": [
    "执行原地操作"
   ]
  },
  {
   "cell_type": "code",
   "execution_count": 37,
   "id": "3abd48e2-be39-42d4-b81c-bdf6cb3bc4a9",
   "metadata": {},
   "outputs": [
    {
     "name": "stdout",
     "output_type": "stream",
     "text": [
      "id(z): 140045476866304\n"
     ]
    },
    {
     "data": {
      "text/plain": [
       "tensor([[0., 0., 0., 0.],\n",
       "        [0., 0., 0., 0.],\n",
       "        [0., 0., 0., 0.]])"
      ]
     },
     "execution_count": 37,
     "metadata": {},
     "output_type": "execute_result"
    }
   ],
   "source": [
    "z = torch.zeros_like(y)\n",
    "print(\"id(z):\",id(z))\n",
    "z"
   ]
  },
  {
   "cell_type": "code",
   "execution_count": 39,
   "id": "856bc901-57f4-4832-bb7a-11ba26f05a0d",
   "metadata": {},
   "outputs": [
    {
     "name": "stdout",
     "output_type": "stream",
     "text": [
      "id(z): 140045476866304\n"
     ]
    },
    {
     "data": {
      "text/plain": [
       "tensor([[38., 37., 40., 39.],\n",
       "        [37., 38., 39., 40.],\n",
       "        [28., 30., 32., 34.]])"
      ]
     },
     "execution_count": 39,
     "metadata": {},
     "output_type": "execute_result"
    }
   ],
   "source": [
    "z[:] = x + y\n",
    "print(\"id(z):\",id(z))\n",
    "z"
   ]
  },
  {
   "cell_type": "markdown",
   "id": "6ff828b7-2281-4b98-bd7e-73f23915170e",
   "metadata": {},
   "source": [
    "如果后续计算没有重复使用x，可以使用x[:] = x + y，或者x += y"
   ]
  },
  {
   "cell_type": "code",
   "execution_count": 40,
   "id": "9664db4c-3c97-4204-baff-d0decb52d39b",
   "metadata": {},
   "outputs": [
    {
     "data": {
      "text/plain": [
       "True"
      ]
     },
     "execution_count": 40,
     "metadata": {},
     "output_type": "execute_result"
    }
   ],
   "source": [
    "before = id(x)\n",
    "x += y\n",
    "id(x) == before"
   ]
  },
  {
   "cell_type": "markdown",
   "id": "fc6b9b25-b561-48b8-ae2e-b81bedc4a27c",
   "metadata": {},
   "source": [
    "转化为numpy张量"
   ]
  },
  {
   "cell_type": "code",
   "execution_count": 42,
   "id": "2198b751-bb70-49fe-aea1-5b47dfe0f81c",
   "metadata": {},
   "outputs": [
    {
     "data": {
      "text/plain": [
       "(numpy.ndarray, torch.Tensor)"
      ]
     },
     "execution_count": 42,
     "metadata": {},
     "output_type": "execute_result"
    }
   ],
   "source": [
    "A = x.numpy()\n",
    "B = torch.tensor(A)\n",
    "type(A), type(B)"
   ]
  },
  {
   "cell_type": "markdown",
   "id": "4310719d-bd0a-4a79-802a-e1d72dd99054",
   "metadata": {},
   "source": [
    "将大小为1的张量转化为python的标量"
   ]
  },
  {
   "cell_type": "code",
   "execution_count": 47,
   "id": "ccec8332-2d0a-4c40-8ead-625cbf9972d6",
   "metadata": {},
   "outputs": [
    {
     "data": {
      "text/plain": [
       "(tensor([3.5000]), 3.5, 3.5, 3)"
      ]
     },
     "execution_count": 47,
     "metadata": {},
     "output_type": "execute_result"
    }
   ],
   "source": [
    "a = torch.tensor([3.5])\n",
    "a, a.item(), float(a), int(a)"
   ]
  },
  {
   "cell_type": "code",
   "execution_count": 46,
   "id": "f1f28838-d37b-4d69-a107-538527a2b87c",
   "metadata": {},
   "outputs": [
    {
     "ename": "ValueError",
     "evalue": "only one element tensors can be converted to Python scalars",
     "output_type": "error",
     "traceback": [
      "\u001b[0;31m---------------------------------------------------------------------------\u001b[0m",
      "\u001b[0;31mValueError\u001b[0m                                Traceback (most recent call last)",
      "\u001b[0;32m/tmp/ipykernel_834/2857625562.py\u001b[0m in \u001b[0;36m<module>\u001b[0;34m\u001b[0m\n\u001b[1;32m      1\u001b[0m \u001b[0ma\u001b[0m \u001b[0;34m=\u001b[0m \u001b[0mtorch\u001b[0m\u001b[0;34m.\u001b[0m\u001b[0mtensor\u001b[0m\u001b[0;34m(\u001b[0m\u001b[0;34m[\u001b[0m\u001b[0;36m3.5\u001b[0m\u001b[0;34m,\u001b[0m \u001b[0;36m1\u001b[0m \u001b[0;34m,\u001b[0m\u001b[0;36m5\u001b[0m\u001b[0;34m]\u001b[0m\u001b[0;34m)\u001b[0m\u001b[0;34m\u001b[0m\u001b[0;34m\u001b[0m\u001b[0m\n\u001b[0;32m----> 2\u001b[0;31m \u001b[0ma\u001b[0m\u001b[0;34m,\u001b[0m \u001b[0ma\u001b[0m\u001b[0;34m.\u001b[0m\u001b[0mitem\u001b[0m\u001b[0;34m(\u001b[0m\u001b[0;34m)\u001b[0m\u001b[0;34m\u001b[0m\u001b[0;34m\u001b[0m\u001b[0m\n\u001b[0m",
      "\u001b[0;31mValueError\u001b[0m: only one element tensors can be converted to Python scalars"
     ]
    }
   ],
   "source": []
  },
  {
   "cell_type": "code",
   "execution_count": null,
   "id": "cb983d4f-2281-40ab-912f-7ea4e0c9c9f7",
   "metadata": {},
   "outputs": [],
   "source": []
  }
 ],
 "metadata": {
  "kernelspec": {
   "display_name": "Python 3 (ipykernel)",
   "language": "python",
   "name": "python3"
  },
  "language_info": {
   "codemirror_mode": {
    "name": "ipython",
    "version": 3
   },
   "file_extension": ".py",
   "mimetype": "text/x-python",
   "name": "python",
   "nbconvert_exporter": "python",
   "pygments_lexer": "ipython3",
   "version": "3.8.10"
  }
 },
 "nbformat": 4,
 "nbformat_minor": 5
}
