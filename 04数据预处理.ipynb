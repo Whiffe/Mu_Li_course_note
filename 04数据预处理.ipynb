{
 "cells": [
  {
   "cell_type": "markdown",
   "id": "8d731c3c-1b24-4c48-8d69-d50ada45066b",
   "metadata": {},
   "source": [
    "创建人工数据集，存储到csv（逗号）文件"
   ]
  },
  {
   "cell_type": "markdown",
   "id": "008791ca-1c4f-4cd8-8412-4bdcd6e29b6a",
   "metadata": {},
   "source": [
    "这行代码是Python中的代码，它使用了os模块的makedirs函数来创建文件夹。\n",
    "\n",
    "os.makedirs(os.path.join('.','data'), exist_ok=True)\n",
    "\n",
    "os.makedirs：这个函数用于创建文件夹。如果文件夹已经存在，它会抛出一个错误。但是，通过设置exist_ok=True，如果文件夹已经存在，它不会抛出错误，而是继续执行。\n",
    "os.path.join('.','data')：这个函数用于连接两个路径，这里是当前目录（.表示当前目录）和data文件夹名称。所以它创建的是在当前目录下的data文件夹。\n",
    "所以，这行代码的意思是：在当前目录下创建名为\"data\"的文件夹，如果该文件夹已经存在，则不抛出错误，继续执行。"
   ]
  },
  {
   "cell_type": "code",
   "execution_count": 1,
   "id": "2a11b3e3-2055-44d1-8e18-b1f77d533e80",
   "metadata": {},
   "outputs": [],
   "source": [
    "import os\n",
    "\n",
    "os.makedirs(os.path.join('.','data'), exist_ok=True)\n",
    "\n",
    "data_file = os.path.join('.', 'data', 'house_tiny.csv')\n",
    "\n",
    "with open(data_file, 'w') as f:\n",
    "    f.write('NumRooms,Alley,Price\\n')\n",
    "    f.write('NA,Pave,127500\\n')\n",
    "    f.write('2,NA,106000\\n')\n",
    "    f.write('4,NA,178100\\n')\n",
    "    f.write('NA,NA,140000\\n')"
   ]
  },
  {
   "cell_type": "code",
   "execution_count": 2,
   "id": "62eaaa72-4093-44fe-82c4-8f74511a5bd6",
   "metadata": {},
   "outputs": [
    {
     "name": "stdout",
     "output_type": "stream",
     "text": [
      "   NumRooms Alley   Price\n",
      "0       NaN  Pave  127500\n",
      "1       2.0   NaN  106000\n",
      "2       4.0   NaN  178100\n",
      "3       NaN   NaN  140000\n"
     ]
    }
   ],
   "source": [
    "import pandas as pd\n",
    "\n",
    "data = pd.read_csv(data_file)\n",
    "print(data)"
   ]
  },
  {
   "cell_type": "markdown",
   "id": "a53fe750-9a65-4441-a36d-ef4955c216a6",
   "metadata": {},
   "source": [
    "为了处理缺失的数据，典型的方法包括 插值 和 删除，这里采用插值"
   ]
  },
  {
   "cell_type": "markdown",
   "id": "a55e0cd6-4720-4404-ba68-dd191b821183",
   "metadata": {},
   "source": [
    ".iloc[]基于整数位置选择数据"
   ]
  },
  {
   "cell_type": "code",
   "execution_count": 8,
   "id": "a696c565-a012-4905-9e63-5de12e187603",
   "metadata": {},
   "outputs": [
    {
     "name": "stdout",
     "output_type": "stream",
     "text": [
      "   NumRooms Alley\n",
      "0       3.0  Pave\n",
      "1       2.0   NaN\n",
      "2       4.0   NaN\n",
      "3       3.0   NaN\n"
     ]
    },
    {
     "name": "stderr",
     "output_type": "stream",
     "text": [
      "/tmp/ipykernel_806/926360299.py:2: FutureWarning: Dropping of nuisance columns in DataFrame reductions (with 'numeric_only=None') is deprecated; in a future version this will raise TypeError.  Select only valid columns before calling the reduction.\n",
      "  inputs = inputs.fillna(inputs.mean())\n"
     ]
    }
   ],
   "source": [
    "inputs, outputs = data.iloc[:,0:2], data.iloc[:,2]\n",
    "inputs = inputs.fillna(inputs.mean())\n",
    "print(inputs)"
   ]
  },
  {
   "cell_type": "code",
   "execution_count": 9,
   "id": "759f7e54-4bb3-4750-9273-b08c1fff894f",
   "metadata": {},
   "outputs": [
    {
     "name": "stdout",
     "output_type": "stream",
     "text": [
      "   NumRooms  Alley_Pave  Alley_nan\n",
      "0       3.0           1          0\n",
      "1       2.0           0          1\n",
      "2       4.0           0          1\n",
      "3       3.0           0          1\n"
     ]
    }
   ],
   "source": [
    "inputs = pd.get_dummies(inputs, dummy_na=True)\n",
    "print(inputs)"
   ]
  },
  {
   "cell_type": "markdown",
   "id": "0aa6ecdb-16f3-401e-8c5a-642fc60590fc",
   "metadata": {},
   "source": [
    "pd.get_dummies() 是 pandas 中的一个函数，用于进行独热编码 (One-Hot Encoding)。独热编码通常用于将分类变量（Categorical Variable）转换为一种格式，以便能够提供给机器学习算法。\n",
    "\n",
    "NumRooms 列中的数值不会被改变，因为它是一个数值型变量，不是分类变量。\n",
    "Alley 列中的值 \"Pave\" 会被转换为一个新的列，名为 Alley_Pave，并为该列赋值。如果原始数据中某行的 Alley 值为 \"Pave\"，则新列 Alley_Pave 中的对应行值为 1，否则为 0。\n",
    "由于 dummy_na=True，任何NaN值（在你的数据中为 \"NaN\"）在 Alley 列中也会被编码为一个新的列。所以会出现一个名为 Alley_nan 的新列。如果原始数据中某行的 Alley 值为NaN，则新列 Alley_nan 中的对应行值为 1，否则为 0。\n",
    "经过上述转换后，你的数据可能会变成这样：\n"
   ]
  },
  {
   "cell_type": "markdown",
   "id": "8465929b-cc56-4cb0-b20c-ff0a491e00c6",
   "metadata": {},
   "source": [
    "现在 inputs，outputs 中所有条目都是数值类型，他可以转化为张量格式。"
   ]
  },
  {
   "cell_type": "code",
   "execution_count": 13,
   "id": "9ac0955d-2d8b-4aa8-a50b-2453c737e624",
   "metadata": {},
   "outputs": [
    {
     "name": "stdout",
     "output_type": "stream",
     "text": [
      "inputs.values: [[3. 1. 0.]\n",
      " [2. 0. 1.]\n",
      " [4. 0. 1.]\n",
      " [3. 0. 1.]]\n",
      "outputs.values: [127500 106000 178100 140000]\n"
     ]
    },
    {
     "data": {
      "text/plain": [
       "(tensor([[3., 1., 0.],\n",
       "         [2., 0., 1.],\n",
       "         [4., 0., 1.],\n",
       "         [3., 0., 1.]], dtype=torch.float64),\n",
       " tensor([127500, 106000, 178100, 140000]))"
      ]
     },
     "execution_count": 13,
     "metadata": {},
     "output_type": "execute_result"
    }
   ],
   "source": [
    "import torch\n",
    "print(\"inputs.values:\",inputs.values)\n",
    "print(\"outputs.values:\",outputs.values)\n",
    "x,y = torch.tensor(inputs.values), torch.tensor(outputs.values)\n",
    "x,y"
   ]
  },
  {
   "cell_type": "code",
   "execution_count": null,
   "id": "ec55b148-9c30-455d-a618-2ea3f7b8ee3e",
   "metadata": {},
   "outputs": [],
   "source": []
  }
 ],
 "metadata": {
  "kernelspec": {
   "display_name": "Python 3 (ipykernel)",
   "language": "python",
   "name": "python3"
  },
  "language_info": {
   "codemirror_mode": {
    "name": "ipython",
    "version": 3
   },
   "file_extension": ".py",
   "mimetype": "text/x-python",
   "name": "python",
   "nbconvert_exporter": "python",
   "pygments_lexer": "ipython3",
   "version": "3.8.10"
  }
 },
 "nbformat": 4,
 "nbformat_minor": 5
}
