{
 "cells": [
  {
   "cell_type": "markdown",
   "id": "3a5975bc-24d0-49f1-9f78-2f9261ed32e7",
   "metadata": {},
   "source": [
    "自定义层"
   ]
  },
  {
   "cell_type": "markdown",
   "id": "be1842d7-b5d1-4547-a850-13ca7d21aa70",
   "metadata": {},
   "source": [
    "构造一个没有任何参数的自定义层"
   ]
  },
  {
   "cell_type": "code",
   "execution_count": 1,
   "id": "debb00f1-24e7-4a3c-aec4-c1991fc6b071",
   "metadata": {},
   "outputs": [],
   "source": [
    "import torch\n",
    "import torch.nn.functional as F\n",
    "from torch import nn"
   ]
  },
  {
   "cell_type": "code",
   "execution_count": 2,
   "id": "6340200f-1977-4fd0-93a0-d0302227e19d",
   "metadata": {},
   "outputs": [],
   "source": [
    "class CenteredLayer(nn.Module):\n",
    "    def __init__(self):\n",
    "        super().__init__()\n",
    "    def forward(self, X):\n",
    "        return X - X.mean()"
   ]
  },
  {
   "cell_type": "code",
   "execution_count": 3,
   "id": "f8516511-97ad-4d67-872f-c8d264f58eed",
   "metadata": {},
   "outputs": [],
   "source": [
    "layer = CenteredLayer()"
   ]
  },
  {
   "cell_type": "code",
   "execution_count": 4,
   "id": "ff978d77-3dcf-4d66-8855-067ec9efb32c",
   "metadata": {},
   "outputs": [
    {
     "data": {
      "text/plain": [
       "tensor([-2., -1.,  0.,  1.,  2.])"
      ]
     },
     "execution_count": 4,
     "metadata": {},
     "output_type": "execute_result"
    }
   ],
   "source": [
    "layer(torch.FloatTensor([1, 2, 3, 4, 5]))"
   ]
  },
  {
   "cell_type": "markdown",
   "id": "99f00187-3d0a-41d1-814a-fedc83e22443",
   "metadata": {},
   "source": [
    "将层作为组件合并到构建更复杂的模型中"
   ]
  },
  {
   "cell_type": "code",
   "execution_count": 5,
   "id": "eeccf2f5-edc1-4095-97e0-c83e65a49216",
   "metadata": {},
   "outputs": [],
   "source": [
    "net = nn.Sequential(nn.Linear(8, 128), CenteredLayer())"
   ]
  },
  {
   "cell_type": "code",
   "execution_count": 6,
   "id": "bb80a639-639c-438f-ab3f-b31c3fc002c5",
   "metadata": {},
   "outputs": [],
   "source": [
    "Y = net(torch.rand(4,8))"
   ]
  },
  {
   "cell_type": "code",
   "execution_count": 7,
   "id": "403d978b-2263-4f60-abc4-a02482097629",
   "metadata": {},
   "outputs": [
    {
     "data": {
      "text/plain": [
       "tensor(8.3819e-09, grad_fn=<MeanBackward0>)"
      ]
     },
     "execution_count": 7,
     "metadata": {},
     "output_type": "execute_result"
    }
   ],
   "source": [
    "Y.mean()"
   ]
  },
  {
   "cell_type": "markdown",
   "id": "dc93ffb1-130c-453e-b721-22c464167737",
   "metadata": {},
   "source": [
    "带参数的层"
   ]
  },
  {
   "cell_type": "code",
   "execution_count": 8,
   "id": "d983cc2b-8273-4bd9-b6e0-0ffe636fc596",
   "metadata": {},
   "outputs": [],
   "source": [
    "class MyLinear(nn.Module):\n",
    "    def __init__(self, in_units, units):\n",
    "        super().__init__()\n",
    "        self.weight = nn.Parameter(torch.randn(in_units, units))\n",
    "        self.bias = nn.Parameter(torch.randn(units, ))\n",
    "    \n",
    "    def forward(self, X):\n",
    "        linear = torch.matmul(X, self.weight.data) + self.bias.data\n",
    "        return F.relu(linear)"
   ]
  },
  {
   "cell_type": "code",
   "execution_count": 9,
   "id": "e3df4820-972d-42be-814d-843f568c803b",
   "metadata": {},
   "outputs": [
    {
     "data": {
      "text/plain": [
       "Parameter containing:\n",
       "tensor([[-1.2136, -0.9363,  0.7590],\n",
       "        [-0.2273,  1.4747, -0.3464],\n",
       "        [ 1.2718, -0.3554,  0.3743],\n",
       "        [ 0.6483, -1.7690, -0.8894],\n",
       "        [-0.2434, -0.5702,  1.3251]], requires_grad=True)"
      ]
     },
     "execution_count": 9,
     "metadata": {},
     "output_type": "execute_result"
    }
   ],
   "source": [
    "dense = MyLinear(5,3)\n",
    "dense.weight"
   ]
  },
  {
   "cell_type": "markdown",
   "id": "8a4b5f5f-0cc0-42a7-980d-99b9ce44640f",
   "metadata": {},
   "source": [
    "使用自定义层直接执行正向传播计算"
   ]
  },
  {
   "cell_type": "code",
   "execution_count": 11,
   "id": "7c77a0c3-9278-4414-af6c-a496f7a9eae3",
   "metadata": {},
   "outputs": [
    {
     "data": {
      "text/plain": [
       "tensor([[0.7902, 0.0000, 1.2817],\n",
       "        [1.3971, 0.0000, 2.1779]])"
      ]
     },
     "execution_count": 11,
     "metadata": {},
     "output_type": "execute_result"
    }
   ],
   "source": [
    "dense(torch.rand(2, 5))"
   ]
  },
  {
   "cell_type": "markdown",
   "id": "9e0afeab-0245-4edc-8c1b-48e0cf0ab802",
   "metadata": {},
   "source": [
    "使用自定义层构建模型"
   ]
  },
  {
   "cell_type": "code",
   "execution_count": 12,
   "id": "da5d142a-803c-4904-9bbb-2fd5209125a3",
   "metadata": {},
   "outputs": [],
   "source": [
    "net = nn.Sequential(MyLinear(64, 8), MyLinear(8, 1))"
   ]
  },
  {
   "cell_type": "code",
   "execution_count": null,
   "id": "94589df2-7219-4ac5-bb61-a7b4afc34741",
   "metadata": {},
   "outputs": [],
   "source": [
    "net[torch]"
   ]
  },
  {
   "cell_type": "code",
   "execution_count": null,
   "id": "3200b510-10df-4f20-a54a-c48203e3ad58",
   "metadata": {},
   "outputs": [],
   "source": []
  }
 ],
 "metadata": {
  "kernelspec": {
   "display_name": "Python 3 (ipykernel)",
   "language": "python",
   "name": "python3"
  },
  "language_info": {
   "codemirror_mode": {
    "name": "ipython",
    "version": 3
   },
   "file_extension": ".py",
   "mimetype": "text/x-python",
   "name": "python",
   "nbconvert_exporter": "python",
   "pygments_lexer": "ipython3",
   "version": "3.8.10"
  }
 },
 "nbformat": 4,
 "nbformat_minor": 5
}
