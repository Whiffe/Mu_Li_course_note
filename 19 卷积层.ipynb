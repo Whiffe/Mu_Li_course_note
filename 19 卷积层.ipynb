{
 "cells": [
  {
   "cell_type": "markdown",
   "id": "a9982f65-5f5e-48ab-8a2a-b657a6bb2c87",
   "metadata": {},
   "source": [
    "图像卷积"
   ]
  },
  {
   "cell_type": "markdown",
   "id": "6047f5d8-6dd3-4128-b6ba-f5354a72d592",
   "metadata": {},
   "source": [
    "互相关运算"
   ]
  },
  {
   "cell_type": "code",
   "execution_count": 1,
   "id": "6ace5eb9-10af-481c-8c2e-0bfa9c1c4ae4",
   "metadata": {},
   "outputs": [],
   "source": [
    "import torch\n",
    "from torch import nn"
   ]
  },
  {
   "cell_type": "markdown",
   "id": "1a074ffe-630a-4f14-8549-0e6ba03f1661",
   "metadata": {},
   "source": [
    "学习由于X生成Y的卷积核"
   ]
  },
  {
   "cell_type": "code",
   "execution_count": 2,
   "id": "6a0b7636-3ccb-4aaf-a017-9e6962cf138b",
   "metadata": {},
   "outputs": [],
   "source": [
    "conv2d = nn.Conv2d(1, 1, kernel_size=(1, 2), bias=False)"
   ]
  },
  {
   "cell_type": "code",
   "execution_count": 3,
   "id": "b32dad70-aba7-4496-8f87-430c58afdba8",
   "metadata": {},
   "outputs": [],
   "source": [
    "X = torch.rand((1, 1, 6, 8))\n",
    "Y = torch.rand((1, 1, 6, 7))"
   ]
  },
  {
   "cell_type": "code",
   "execution_count": 4,
   "id": "b45f9a31-600e-4965-aa44-0e0376531a4e",
   "metadata": {},
   "outputs": [
    {
     "name": "stdout",
     "output_type": "stream",
     "text": [
      "batch 2, loss 12.261\n",
      "batch 4, loss 6.178\n",
      "batch 6, loss 4.771\n",
      "batch 8, loss 4.432\n",
      "batch 10, loss 4.345\n"
     ]
    }
   ],
   "source": [
    "for i in range(10):\n",
    "    Y_hat = conv2d(X)\n",
    "    l = (Y_hat - Y)**2\n",
    "    conv2d.zero_grad()\n",
    "    l.sum().backward()\n",
    "    conv2d.weight.data[:] -= 3e-2 * conv2d.weight.grad\n",
    "    \n",
    "    if ( i + 1 ) % 2 ==0:\n",
    "        print(f'batch {i+1}, loss {l.sum():.3f}')"
   ]
  },
  {
   "cell_type": "markdown",
   "id": "bca7271c-d5c6-43c0-affd-15e87b8ce990",
   "metadata": {},
   "source": [
    "所学的卷积核的权重张量"
   ]
  },
  {
   "cell_type": "code",
   "execution_count": 5,
   "id": "97200ee0-279c-4ed5-939c-09b76e4707b9",
   "metadata": {},
   "outputs": [
    {
     "data": {
      "text/plain": [
       "tensor([[[[0.3811, 0.4388]]]])"
      ]
     },
     "execution_count": 5,
     "metadata": {},
     "output_type": "execute_result"
    }
   ],
   "source": [
    "conv2d.weight.data"
   ]
  },
  {
   "cell_type": "code",
   "execution_count": 6,
   "id": "49920800-a648-42e4-a75c-a973723d7412",
   "metadata": {},
   "outputs": [
    {
     "data": {
      "text/plain": [
       "tensor([[0.3811, 0.4388]])"
      ]
     },
     "execution_count": 6,
     "metadata": {},
     "output_type": "execute_result"
    }
   ],
   "source": [
    "conv2d.weight.data.reshape((1,2))"
   ]
  }
 ],
 "metadata": {
  "kernelspec": {
   "display_name": "Python 3 (ipykernel)",
   "language": "python",
   "name": "python3"
  },
  "language_info": {
   "codemirror_mode": {
    "name": "ipython",
    "version": 3
   },
   "file_extension": ".py",
   "mimetype": "text/x-python",
   "name": "python",
   "nbconvert_exporter": "python",
   "pygments_lexer": "ipython3",
   "version": "3.8.10"
  }
 },
 "nbformat": 4,
 "nbformat_minor": 5
}
