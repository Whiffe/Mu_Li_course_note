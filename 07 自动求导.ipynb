{
 "cells": [
  {
   "attachments": {
    "a3a5af63-5e11-46cc-aa40-ba1899f4c2c8.png": {
     "image/png": "[encoded data removed]"
    }
   },
   "cell_type": "markdown",
   "id": "97227e8c-405c-4ba6-9134-5e7f155cd73c",
   "metadata": {},
   "source": [
    "![image.png](attachment:a3a5af63-5e11-46cc-aa40-ba1899f4c2c8.png)"
   ]
  },
  {
   "cell_type": "code",
   "execution_count": 2,
   "id": "c3ba63fb-cfbe-48b7-af1a-389c5a3cb7e4",
   "metadata": {},
   "outputs": [
    {
     "data": {
      "text/plain": [
       "tensor([0., 1., 2., 3.])"
      ]
     },
     "execution_count": 2,
     "metadata": {},
     "output_type": "execute_result"
    }
   ],
   "source": [
    "import torch\n",
    "\n",
    "x = torch.arange(4.0)\n",
    "\n",
    "x"
   ]
  },
  {
   "cell_type": "markdown",
   "id": "7dbd5c60-cb1c-488d-a704-a60b41f1c19c",
   "metadata": {},
   "source": [
    "在计算y 关于x的梯度之前，需要一个地方存储梯度"
   ]
  },
  {
   "cell_type": "code",
   "execution_count": 3,
   "id": "e3d09fb4-ae24-44da-8494-9d4eb140bc10",
   "metadata": {},
   "outputs": [
    {
     "data": {
      "text/plain": [
       "(tensor([0., 1., 2., 3.], requires_grad=True), None)"
      ]
     },
     "execution_count": 3,
     "metadata": {},
     "output_type": "execute_result"
    }
   ],
   "source": [
    "x.requires_grad_(True) # 等价 x = torch.arange(4.0, requires_grad=True)\n",
    "\n",
    "x, x.grad"
   ]
  },
  {
   "cell_type": "markdown",
   "id": "38ea9b90-2228-43b0-9552-725274cb7c67",
   "metadata": {},
   "source": [
    "现在计算y"
   ]
  },
  {
   "cell_type": "code",
   "execution_count": 4,
   "id": "1f8f6bd1-5e57-4737-b812-76eb2610eb18",
   "metadata": {},
   "outputs": [
    {
     "data": {
      "text/plain": [
       "tensor(28., grad_fn=<MulBackward0>)"
      ]
     },
     "execution_count": 4,
     "metadata": {},
     "output_type": "execute_result"
    }
   ],
   "source": [
    "y = 2 * torch.dot(x,x)\n",
    "y"
   ]
  },
  {
   "cell_type": "markdown",
   "id": "05724c19-69e0-4dd5-8e6d-4736be22027c",
   "metadata": {},
   "source": [
    "通过调用反响传播函数来自动计算y关于x每个分量的梯度"
   ]
  },
  {
   "cell_type": "code",
   "execution_count": 5,
   "id": "e3152030-c811-4ca3-93f0-b6824d9532c3",
   "metadata": {},
   "outputs": [],
   "source": [
    "y.backward()"
   ]
  },
  {
   "cell_type": "code",
   "execution_count": 6,
   "id": "23c623db-216c-4ae9-be6e-e1fa1f91d4ff",
   "metadata": {},
   "outputs": [
    {
     "data": {
      "text/plain": [
       "tensor([ 0.,  4.,  8., 12.])"
      ]
     },
     "execution_count": 6,
     "metadata": {},
     "output_type": "execute_result"
    }
   ],
   "source": [
    "x.grad"
   ]
  },
  {
   "cell_type": "code",
   "execution_count": 7,
   "id": "ec93f249-da1d-4a85-9f71-3111d913f6ee",
   "metadata": {},
   "outputs": [
    {
     "data": {
      "text/plain": [
       "tensor([True, True, True, True])"
      ]
     },
     "execution_count": 7,
     "metadata": {},
     "output_type": "execute_result"
    }
   ],
   "source": [
    "x.grad == 4 * x"
   ]
  },
  {
   "cell_type": "markdown",
   "id": "48d3ad10-30dd-4364-9c8a-fa05d217fe6f",
   "metadata": {},
   "source": [
    "现在计算x的另一个函数"
   ]
  },
  {
   "cell_type": "code",
   "execution_count": 8,
   "id": "b3e27e50-80ac-4d62-9ff5-8d60745b1279",
   "metadata": {},
   "outputs": [
    {
     "data": {
      "text/plain": [
       "tensor([0., 0., 0., 0.])"
      ]
     },
     "execution_count": 8,
     "metadata": {},
     "output_type": "execute_result"
    }
   ],
   "source": [
    "# 在默认情况下，PyTorch会累积梯度，我们需要清除之前的值\n",
    "x.grad.zero_()"
   ]
  },
  {
   "cell_type": "code",
   "execution_count": 9,
   "id": "f463fedd-0dac-40ce-a822-a94030cf9984",
   "metadata": {},
   "outputs": [
    {
     "data": {
      "text/plain": [
       "(tensor([0., 1., 2., 3.], requires_grad=True),\n",
       " tensor(6., grad_fn=<SumBackward0>))"
      ]
     },
     "execution_count": 9,
     "metadata": {},
     "output_type": "execute_result"
    }
   ],
   "source": [
    "y = x.sum()\n",
    "x,y"
   ]
  },
  {
   "cell_type": "code",
   "execution_count": 10,
   "id": "ef896573-4944-4386-9d45-f11f28fb62e5",
   "metadata": {},
   "outputs": [
    {
     "data": {
      "text/plain": [
       "tensor(6., grad_fn=<SumBackward0>)"
      ]
     },
     "execution_count": 10,
     "metadata": {},
     "output_type": "execute_result"
    }
   ],
   "source": [
    "y.backward()\n",
    "y"
   ]
  },
  {
   "cell_type": "code",
   "execution_count": 11,
   "id": "9c2de676-1e7c-4e60-a7bc-71d8e63c8a54",
   "metadata": {},
   "outputs": [
    {
     "data": {
      "text/plain": [
       "tensor([1., 1., 1., 1.])"
      ]
     },
     "execution_count": 11,
     "metadata": {},
     "output_type": "execute_result"
    }
   ],
   "source": [
    "x.grad"
   ]
  },
  {
   "cell_type": "markdown",
   "id": "345dd5c4-377f-4584-b45d-e50435d6c241",
   "metadata": {},
   "source": [
    "在深度学习中，我们的目标不是计算微分矩阵，而是对批量中每个样本进行单独计算偏导数，并将它们的和作为最终结果。"
   ]
  },
  {
   "cell_type": "code",
   "execution_count": 17,
   "id": "65393e36-4518-4401-b52f-eafb22711df7",
   "metadata": {},
   "outputs": [
    {
     "data": {
      "text/plain": [
       "(tensor([0., 1., 2., 3.], requires_grad=True),\n",
       " tensor([0., 1., 4., 9.], grad_fn=<MulBackward0>),\n",
       " tensor([0., 2., 4., 6.]))"
      ]
     },
     "execution_count": 17,
     "metadata": {},
     "output_type": "execute_result"
    }
   ],
   "source": [
    "x.grad.zero_()\n",
    "y = x * x\n",
    "# 等价于 y.backward(torch.ones(len(x)))\n",
    "y.sum().backward()\n",
    "x,y,x.grad"
   ]
  },
  {
   "cell_type": "markdown",
   "id": "36012c56-1c91-480f-8543-1500a4389b61",
   "metadata": {},
   "source": [
    "将某些计算移动到记录的计算图之外"
   ]
  },
  {
   "cell_type": "markdown",
   "id": "1abbf388-39bb-43d4-9004-ad62ec41cc01",
   "metadata": {},
   "source": [
    "detach() 方法用于返回一个新的 Tensor，这个 Tensor 和原来的 Tensor 共享相同的内存空间，但是不会被计算图所追踪，也就是说它不会参与反向传播，不会影响到原有的计算图，这使得它成为处理中间结果的一种有效方式\n",
    "\n",
    "https://zhuanlan.zhihu.com/p/613991185"
   ]
  },
  {
   "cell_type": "code",
   "execution_count": 25,
   "id": "a6683e33-6793-4ac1-ba5c-1eba55e190de",
   "metadata": {},
   "outputs": [
    {
     "data": {
      "text/plain": [
       "(tensor([True, True, True, True]),\n",
       " tensor([0., 1., 4., 9.]),\n",
       " tensor([0., 1., 4., 9.]),\n",
       " tensor([0., 1., 4., 9.], grad_fn=<MulBackward0>))"
      ]
     },
     "execution_count": 25,
     "metadata": {},
     "output_type": "execute_result"
    }
   ],
   "source": [
    "x.grad.zero_()\n",
    "y = x * x\n",
    "u = y.detach()\n",
    "z = u * x\n",
    "\n",
    "z.sum().backward()\n",
    "x.grad == u, x.grad, u,y"
   ]
  },
  {
   "cell_type": "code",
   "execution_count": 26,
   "id": "d13beaa1-2575-4bfd-82f3-e2f704657a4f",
   "metadata": {},
   "outputs": [
    {
     "data": {
      "text/plain": [
       "(tensor([True, True, True, True]),\n",
       " tensor([0., 1., 2., 3.], requires_grad=True),\n",
       " tensor([0., 1., 4., 9.], grad_fn=<MulBackward0>))"
      ]
     },
     "execution_count": 26,
     "metadata": {},
     "output_type": "execute_result"
    }
   ],
   "source": [
    "x.grad.zero_()\n",
    "y.sum().backward()\n",
    "x.grad == 2 *x, x, y"
   ]
  },
  {
   "cell_type": "markdown",
   "id": "ae222887-26d4-463c-9496-e52ef22b00eb",
   "metadata": {},
   "source": [
    "构建函数的计算图，如通过python控制流（条件、循环或任意函数调用），我们仍然可以计算的到变量的梯度。"
   ]
  },
  {
   "cell_type": "code",
   "execution_count": 28,
   "id": "837e30b7-5d87-44c7-94ff-e73d8743efcc",
   "metadata": {},
   "outputs": [
    {
     "data": {
      "text/plain": [
       "tensor(True)"
      ]
     },
     "execution_count": 28,
     "metadata": {},
     "output_type": "execute_result"
    }
   ],
   "source": [
    "def f(a):\n",
    "    b = a *2\n",
    "    while b.norm() < 100:\n",
    "        b = b *2\n",
    "    if b.sum() > 0:\n",
    "        c = b\n",
    "    else:\n",
    "        c = 100 * b\n",
    "    return c\n",
    "\n",
    "a = torch.randn(size=(), requires_grad=True)\n",
    "d = f(a)\n",
    "d.backward()\n",
    "\n",
    "a.grad == d / a"
   ]
  },
  {
   "cell_type": "code",
   "execution_count": 29,
   "id": "9725bb9d-bdae-4949-a34b-15ae058a1e42",
   "metadata": {},
   "outputs": [
    {
     "data": {
      "text/plain": [
       "tensor(True)"
      ]
     },
     "execution_count": 29,
     "metadata": {},
     "output_type": "execute_result"
    }
   ],
   "source": [
    "# 导入PyTorch库（尽管这在代码中没有明确显示，但根据上下文可以推断出）  \n",
    "import torch  \n",
    "  \n",
    "# 定义一个函数f，接受一个参数a  \n",
    "def f(a):  \n",
    "    # 将a的值乘以2，并赋值给b  \n",
    "    b = a * 2  \n",
    "      \n",
    "    # 当b的范数小于100时，执行循环体  \n",
    "    while b.norm() < 100:  \n",
    "        # 将b的值乘以2  \n",
    "        b = b * 2  \n",
    "      \n",
    "    # 判断b的元素之和是否大于0  \n",
    "    if b.sum() > 0:  \n",
    "        # 如果大于0，将b的值赋给c  \n",
    "        c = b  \n",
    "    else:  \n",
    "        # 如果小于或等于0，将b的值乘以100后赋给c  \n",
    "        c = 100 * b  \n",
    "      \n",
    "    # 返回c的值  \n",
    "    return c  \n",
    "  \n",
    "# 创建一个随机的PyTorch张量a，该张量可计算梯度  \n",
    "a = torch.randn(size=(), requires_grad=True)  \n",
    "  \n",
    "# 调用函数f，并将结果赋值给d  \n",
    "d = f(a)  \n",
    "  \n",
    "# 对d进行反向传播，计算梯度  \n",
    "d.backward()  \n",
    "  \n",
    "# 检查计算得到的梯度是否等于d / a，并返回结果  \n",
    "a.grad == d / a"
   ]
  },
  {
   "cell_type": "markdown",
   "id": "87897985-12b3-4497-bd4f-325b439359c6",
   "metadata": {},
   "source": [
    "size=()表示生成的张量（tensor）的形状。具体来说，size=()意味着生成一个标量（scalar），也就是一个0维的张量。"
   ]
  },
  {
   "cell_type": "code",
   "execution_count": null,
   "id": "757f3699-4fa0-4293-bb50-9a29669a9640",
   "metadata": {},
   "outputs": [],
   "source": []
  },
  {
   "cell_type": "code",
   "execution_count": null,
   "id": "ec42c2ef-1ae9-4222-9e61-965a30746455",
   "metadata": {},
   "outputs": [],
   "source": []
  },
  {
   "cell_type": "code",
   "execution_count": null,
   "id": "f5405a9a-d0f6-40b5-8af0-632414012b4b",
   "metadata": {},
   "outputs": [],
   "source": []
  },
  {
   "cell_type": "code",
   "execution_count": null,
   "id": "cba73500-077f-4fdd-b569-28b056dfedb7",
   "metadata": {},
   "outputs": [],
   "source": []
  },
  {
   "cell_type": "code",
   "execution_count": null,
   "id": "ac403358-bd09-44f8-b58d-4012e23f6253",
   "metadata": {},
   "outputs": [],
   "source": []
  },
  {
   "cell_type": "code",
   "execution_count": null,
   "id": "6278f3e5-b870-48fe-8cb1-78834c7f567f",
   "metadata": {},
   "outputs": [],
   "source": []
  },
  {
   "cell_type": "code",
   "execution_count": null,
   "id": "442eb3f2-1d27-4b59-9f63-dbe1705fdabc",
   "metadata": {},
   "outputs": [],
   "source": []
  },
  {
   "cell_type": "code",
   "execution_count": null,
   "id": "07ecd417-e871-4fc0-8358-cfaa75f04ec1",
   "metadata": {},
   "outputs": [],
   "source": []
  },
  {
   "cell_type": "code",
   "execution_count": null,
   "id": "bbebcb6c-0b14-473d-9d2c-30806820dd24",
   "metadata": {},
   "outputs": [],
   "source": []
  },
  {
   "cell_type": "code",
   "execution_count": null,
   "id": "6c0f047e-c4ad-4030-9d4b-20adc8d5be45",
   "metadata": {},
   "outputs": [],
   "source": []
  }
 ],
 "metadata": {
  "kernelspec": {
   "display_name": "Python 3 (ipykernel)",
   "language": "python",
   "name": "python3"
  },
  "language_info": {
   "codemirror_mode": {
    "name": "ipython",
    "version": 3
   },
   "file_extension": ".py",
   "mimetype": "text/x-python",
   "name": "python",
   "nbconvert_exporter": "python",
   "pygments_lexer": "ipython3",
   "version": "3.8.10"
  }
 },
 "nbformat": 4,
 "nbformat_minor": 5
}
